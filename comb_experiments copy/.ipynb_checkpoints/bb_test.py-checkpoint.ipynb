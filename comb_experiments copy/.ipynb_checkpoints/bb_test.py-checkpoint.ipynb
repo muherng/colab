{
 "cells": [
  {
   "cell_type": "code",
   "execution_count": 1,
   "metadata": {
    "scrolled": true
   },
   "outputs": [
    {
     "name": "stdout",
     "output_type": "stream",
     "text": [
      "dual_lp:  2.0\n"
     ]
    },
    {
     "ename": "IndentationError",
     "evalue": "expected an indented block (branch_bound.py, line 93)",
     "output_type": "error",
     "traceback": [
      "Traceback \u001b[0;36m(most recent call last)\u001b[0m:\n",
      "  File \u001b[1;32m\"/opt/anaconda3/lib/python3.7/site-packages/IPython/core/interactiveshell.py\"\u001b[0m, line \u001b[1;32m3331\u001b[0m, in \u001b[1;35mrun_code\u001b[0m\n    exec(code_obj, self.user_global_ns, self.user_ns)\n",
      "\u001b[0;36m  File \u001b[0;32m\"<ipython-input-1-77db4fde1ba1>\"\u001b[0;36m, line \u001b[0;32m22\u001b[0;36m, in \u001b[0;35m<module>\u001b[0;36m\u001b[0m\n\u001b[0;31m    from branch_bound import BB\u001b[0m\n",
      "\u001b[0;36m  File \u001b[0;32m\"/opt/anaconda3/pkgs/pgmpy-0.1.20-py37_0/lib/python3.7/site-packages/pgmpy/inference/branch_bound.py\"\u001b[0;36m, line \u001b[0;32m93\u001b[0m\n\u001b[0;31m    for factor in model.get_factors(pivot):\u001b[0m\n\u001b[0m      ^\u001b[0m\n\u001b[0;31mIndentationError\u001b[0m\u001b[0;31m:\u001b[0m expected an indented block\n"
     ]
    }
   ],
   "source": [
    "import numpy as np\n",
    "from pgmpy.models import MarkovNetwork\n",
    "from pgmpy.inference import Mplp\n",
    "from pgmpy.factors.discrete import DiscreteFactor\n",
    "student = MarkovNetwork()\n",
    "student.add_edges_from([('E', 'F'),('E','G')])\n",
    "factor_e = DiscreteFactor(['E'], cardinality=[2], values=np.array([0.0, 0.0]))\n",
    "factor_f = DiscreteFactor(['F'], cardinality=[2], values=np.array([0.0, 0.0]))\n",
    "factor_g = DiscreteFactor(['G'], cardinality=[2], values=np.array([0.0, 0.0]))\n",
    "factor_e_f = DiscreteFactor(['E', 'F'], cardinality=[2, 2],\n",
    "                            values=np.array([0.0, 0.0, 1.0, 0.0]))\n",
    "factor_e_g = DiscreteFactor(['E', 'G'], cardinality=[2, 2],\n",
    "                            values=np.array([0.0, 0.0, 0.0, 1.0]))\n",
    "student.add_factors(factor_e,factor_f,factor_g,factor_e_f,factor_e_g)\n",
    "mplp = Mplp(student)\n",
    "#result = mplp.map_query()\n",
    "#int_gap = mplp.get_integrality_gap()\n",
    "#print(int_gap)\n",
    "#print('result: ', result)\n",
    "#import sys\n",
    "#sys.path.append('/opt/anaconda3/pkgs/pgmpy-0.1.20-py37_0/lib/python3.7/site-packages/pgmpy/inference')\n",
    "#from branch_bound import BB\n",
    "#a = BB(mplp)\n",
    "#a.run()"
   ]
  },
  {
   "cell_type": "code",
   "execution_count": null,
   "metadata": {},
   "outputs": [],
   "source": [
    "neighbors = []\n",
    "index = 'A'\n",
    "for factor in student.get_factors(index):\n",
    "    scope = factor.scope()\n",
    "    if len(scope) == 2:\n",
    "        print(scope)\n",
    "        scope.remove(index)\n",
    "        print('in: ', scope)\n",
    "        neighbors.append(scope[0])\n",
    "        \n",
    "neighbors"
   ]
  },
  {
   "cell_type": "code",
   "execution_count": null,
   "metadata": {},
   "outputs": [],
   "source": [
    "import copy \n",
    "copy = copy.deepcopy(mplp.cluster_set)\n",
    "\n",
    "for cluster in copy:\n",
    "    if 'A' in cluster:\n",
    "        mplp.cluster_set.pop(cluster)\n",
    "mplp.cluster_set"
   ]
  },
  {
   "cell_type": "code",
   "execution_count": 4,
   "metadata": {},
   "outputs": [
    {
     "data": {
      "text/plain": [
       "1"
      ]
     },
     "execution_count": 4,
     "metadata": {},
     "output_type": "execute_result"
    }
   ],
   "source": [
    "a = frozenset([1,2,3])\n",
    "set(a).pop()"
   ]
  },
  {
   "cell_type": "code",
   "execution_count": 19,
   "metadata": {},
   "outputs": [
    {
     "name": "stdout",
     "output_type": "stream",
     "text": [
      "['E']\n",
      "[2]\n",
      "+------+----------+\n",
      "| E    |   phi(E) |\n",
      "+======+==========+\n",
      "| E(0) |   0.0000 |\n",
      "+------+----------+\n",
      "| E(1) |   0.0000 |\n",
      "+------+----------+\n",
      "['E', 'F']\n",
      "[2 2]\n",
      "+------+------+------------+\n",
      "| E    | F    |   phi(E,F) |\n",
      "+======+======+============+\n",
      "| E(0) | F(0) |     0.0000 |\n",
      "+------+------+------------+\n",
      "| E(0) | F(1) |     0.0000 |\n",
      "+------+------+------------+\n",
      "| E(1) | F(0) |     0.5000 |\n",
      "+------+------+------------+\n",
      "| E(1) | F(1) |     0.0000 |\n",
      "+------+------+------------+\n",
      "['E', 'G']\n",
      "[2 2]\n",
      "+------+------+------------+\n",
      "| E    | G    |   phi(E,G) |\n",
      "+======+======+============+\n",
      "| E(0) | G(0) |     0.0000 |\n",
      "+------+------+------------+\n",
      "| E(0) | G(1) |     0.0000 |\n",
      "+------+------+------------+\n",
      "| E(1) | G(0) |     0.0000 |\n",
      "+------+------+------------+\n",
      "| E(1) | G(1) |     0.5000 |\n",
      "+------+------+------------+\n"
     ]
    }
   ],
   "source": [
    "for neighbor in mplp.model.get_factors('E'):\n",
    "    print(neighbor.variables)\n",
    "    print(neighbor.cardinality)\n",
    "    print(0.5*neighbor)\n",
    "    neighbor.reduce([('E', 0)])\n",
    "    DiscreteFactor(neighbor.variables, neighbor.cardinality, np.zeros(neighbor.cardinality))"
   ]
  },
  {
   "cell_type": "code",
   "execution_count": 16,
   "metadata": {},
   "outputs": [
    {
     "data": {
      "text/plain": [
       "array([[0., 0.],\n",
       "       [0., 0.]])"
      ]
     },
     "execution_count": 16,
     "metadata": {},
     "output_type": "execute_result"
    }
   ],
   "source": [
    "np.zeros([2,2])"
   ]
  },
  {
   "cell_type": "code",
   "execution_count": null,
   "metadata": {},
   "outputs": [],
   "source": []
  }
 ],
 "metadata": {
  "kernelspec": {
   "display_name": "Python 3",
   "language": "python",
   "name": "python3"
  },
  "language_info": {
   "codemirror_mode": {
    "name": "ipython",
    "version": 3
   },
   "file_extension": ".py",
   "mimetype": "text/x-python",
   "name": "python",
   "nbconvert_exporter": "python",
   "pygments_lexer": "ipython3",
   "version": "3.7.6"
  }
 },
 "nbformat": 4,
 "nbformat_minor": 4
}
