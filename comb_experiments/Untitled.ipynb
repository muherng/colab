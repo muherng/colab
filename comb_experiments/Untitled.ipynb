{
 "cells": [
  {
   "cell_type": "code",
   "execution_count": 11,
   "metadata": {},
   "outputs": [
    {
     "name": "stdout",
     "output_type": "stream",
     "text": [
      "['', '..', '']\n",
      "[]\n"
     ]
    },
    {
     "data": {
      "text/plain": [
       "'/'"
      ]
     },
     "execution_count": 11,
     "metadata": {},
     "output_type": "execute_result"
    }
   ],
   "source": [
    "class Solution(object):\n",
    "    def simplifyPath(self, path):\n",
    "        \"\"\"\n",
    "        :type path: str\n",
    "        :rtype: str\n",
    "        \"\"\"\n",
    "        separate = path.split('/')\n",
    "        print(separate)\n",
    "        mod = []\n",
    "        for entry in separate:\n",
    "            if entry == '':\n",
    "                continue\n",
    "            if entry == '.':\n",
    "                continue\n",
    "            if entry == '..':\n",
    "                if mod:\n",
    "                    mod.pop()\n",
    "            else: \n",
    "                mod.append(entry)\n",
    "            print(mod)\n",
    "        ans = ['/']\n",
    "        for i in range(len(mod)):\n",
    "            ans.append(mod[i])\n",
    "            if i < len(mod)-1:\n",
    "                ans.append('/')\n",
    "            \n",
    "            \n",
    "        return \"\".join(ans)\n",
    "            \n",
    "        \n",
    "sol = Solution()\n",
    "sol.simplifyPath(\"/../\")"
   ]
  },
  {
   "cell_type": "code",
   "execution_count": 30,
   "metadata": {},
   "outputs": [
    {
     "name": "stdout",
     "output_type": "stream",
     "text": [
      "['P', 'p']\n",
      "['P']\n",
      "arg1:  P\n",
      "arg2:  p\n"
     ]
    },
    {
     "data": {
      "text/plain": [
       "''"
      ]
     },
     "execution_count": 30,
     "metadata": {},
     "output_type": "execute_result"
    }
   ],
   "source": [
    "class Solution(object):\n",
    "    def makeGood(self, s):\n",
    "        \"\"\"\n",
    "        :type s: str\n",
    "        :rtype: str\n",
    "        \"\"\"\n",
    "        var1 = list(s)\n",
    "        print(var1)\n",
    "        var2 = []\n",
    "        for i in range(len(var1)):\n",
    "            if not var2:\n",
    "                var2.append(var1[i])\n",
    "            else: \n",
    "                if var1[i].lower() == var2[-1].lower():\n",
    "                    a1 = var1[i].islower()\n",
    "                    a2 = var2[-1].islower()\n",
    "                    if a1 ^ a2:\n",
    "                        if var2: \n",
    "                            var2.pop()\n",
    "                            continue\n",
    "                var2.append(var1[i])\n",
    "                    \n",
    "            print(var2)\n",
    "        return \"\".join(var2)\n",
    "                            \n",
    "sol = Solution()\n",
    "sol.makeGood(\"Pp\")"
   ]
  },
  {
   "cell_type": "code",
   "execution_count": 14,
   "metadata": {},
   "outputs": [
    {
     "ename": "IndexError",
     "evalue": "list index out of range",
     "output_type": "error",
     "traceback": [
      "\u001b[0;31m---------------------------------------------------------------------------\u001b[0m",
      "\u001b[0;31mIndexError\u001b[0m                                Traceback (most recent call last)",
      "\u001b[0;32m<ipython-input-14-7700e9767d41>\u001b[0m in \u001b[0;36m<module>\u001b[0;34m\u001b[0m\n\u001b[1;32m      1\u001b[0m \u001b[0ma\u001b[0m \u001b[0;34m=\u001b[0m \u001b[0;34m[\u001b[0m\u001b[0;34m]\u001b[0m\u001b[0;34m\u001b[0m\u001b[0;34m\u001b[0m\u001b[0m\n\u001b[0;32m----> 2\u001b[0;31m \u001b[0ma\u001b[0m\u001b[0;34m[\u001b[0m\u001b[0;34m-\u001b[0m\u001b[0;36m1\u001b[0m\u001b[0;34m]\u001b[0m\u001b[0;34m\u001b[0m\u001b[0;34m\u001b[0m\u001b[0m\n\u001b[0m",
      "\u001b[0;31mIndexError\u001b[0m: list index out of range"
     ]
    }
   ],
   "source": []
  },
  {
   "cell_type": "code",
   "execution_count": 20,
   "metadata": {},
   "outputs": [
    {
     "data": {
      "text/plain": [
       "False"
      ]
     },
     "execution_count": 20,
     "metadata": {},
     "output_type": "execute_result"
    }
   ],
   "source": [
    "False ^ False"
   ]
  },
  {
   "cell_type": "code",
   "execution_count": 42,
   "metadata": {},
   "outputs": [
    {
     "data": {
      "text/plain": [
       "6.0"
      ]
     },
     "execution_count": 42,
     "metadata": {},
     "output_type": "execute_result"
    }
   ],
   "source": [
    "from collections import deque \n",
    "\n",
    "class MovingAverage(object):\n",
    "\n",
    "    def __init__(self, size):\n",
    "        \"\"\"\n",
    "        :type size: int\n",
    "        \"\"\"\n",
    "        self.size = size\n",
    "        self.queue = deque()\n",
    "\n",
    "    def next(self, val):\n",
    "        \"\"\"\n",
    "        :type val: int\n",
    "        :rtype: float\n",
    "        \"\"\"\n",
    "        self.queue.append(val)\n",
    "        if len(self.queue) > self.size:\n",
    "            self.queue.popleft()\n",
    "        tot = 0\n",
    "        for elem in self.queue:\n",
    "            tot += elem\n",
    "        avg = tot/len(self.queue) \n",
    "        return avg\n",
    "\n",
    "\n",
    "# Your MovingAverage object will be instantiated and called as such:\n",
    "obj = MovingAverage(3)\n",
    "obj.next(1)\n",
    "obj.next(10)\n",
    "obj.next(3)\n",
    "obj.next(5)\n",
    "# param_1 = obj.next(val)"
   ]
  },
  {
   "cell_type": "code",
   "execution_count": 48,
   "metadata": {},
   "outputs": [
    {
     "data": {
      "text/plain": [
       "3"
      ]
     },
     "execution_count": 48,
     "metadata": {},
     "output_type": "execute_result"
    }
   ],
   "source": [
    "a = [1,2,2,3]\n",
    "a[-1]"
   ]
  },
  {
   "cell_type": "code",
   "execution_count": 83,
   "metadata": {},
   "outputs": [
    {
     "name": "stdout",
     "output_type": "stream",
     "text": [
      "next_greater:  [3, 4, -1, -1]\n"
     ]
    },
    {
     "data": {
      "text/plain": [
       "[-1, 3, -1]"
      ]
     },
     "execution_count": 83,
     "metadata": {},
     "output_type": "execute_result"
    }
   ],
   "source": [
    "import numpy as np\n",
    "\n",
    "class Solution(object):\n",
    "    def nextGreaterElement(self, nums1, nums2):\n",
    "        \"\"\"\n",
    "        :type nums1: List[int]\n",
    "        :type nums2: List[int]\n",
    "        :rtype: List[int]\n",
    "        \"\"\"\n",
    "        next_greater = []\n",
    "        run_max = nums2[0]\n",
    "        change_point = 0\n",
    "        for i in range(len(nums2)):\n",
    "            if nums2[i] > run_max:\n",
    "                run_max = nums2[i]\n",
    "                next_greater += [run_max]*(i-change_point)\n",
    "                change_point = i\n",
    "        next_greater += [-1]*(len(nums2) - len(next_greater))        \n",
    "        print('next_greater: ', next_greater)\n",
    "        ans = []\n",
    "        for i in range(len(nums1)):\n",
    "            index = nums2.index(nums1[i])\n",
    "            ans.append(next_greater[index])\n",
    "        return ans\n",
    "\n",
    "a = Solution()\n",
    "a.nextGreaterElement([4,1,2],[1,3,4,2])\n",
    "            "
   ]
  },
  {
   "cell_type": "code",
   "execution_count": 54,
   "metadata": {},
   "outputs": [
    {
     "name": "stdout",
     "output_type": "stream",
     "text": [
      "[1, 2, 3]\n"
     ]
    }
   ],
   "source": [
    "a = [1,2,3]\n",
    "b = a.copy()\n",
    "b \n",
    "a[2] = 5\n",
    "print(b)"
   ]
  },
  {
   "cell_type": "code",
   "execution_count": 81,
   "metadata": {},
   "outputs": [
    {
     "data": {
      "text/plain": [
       "1"
      ]
     },
     "execution_count": 81,
     "metadata": {},
     "output_type": "execute_result"
    }
   ],
   "source": [
    "a = [1,2,3]\n",
    "a.index(2)"
   ]
  },
  {
   "cell_type": "code",
   "execution_count": 95,
   "metadata": {},
   "outputs": [
    {
     "name": "stdout",
     "output_type": "stream",
     "text": [
      "[100]\n",
      "init\n",
      "[100, 80]\n",
      "[100, 80, 60]\n",
      "[100, 80, 60, 70]\n",
      "[100, 80, 60, 70, 60]\n",
      "[100, 80, 60, 70, 60, 75]\n",
      "[100, 80, 60, 70, 60, 75, 85]\n"
     ]
    },
    {
     "data": {
      "text/plain": [
       "7"
      ]
     },
     "execution_count": 95,
     "metadata": {},
     "output_type": "execute_result"
    }
   ],
   "source": [
    "class stockSpanner(object):\n",
    "\n",
    "    def __init__(self):\n",
    "        self.history = []\n",
    "        self.span = 0\n",
    "    def next(self, price):\n",
    "        \"\"\"\n",
    "        :type price: int\n",
    "        :rtype: int\n",
    "        \"\"\"\n",
    "        self.history.append(price)\n",
    "        print(self.history)\n",
    "        run_index = 0\n",
    "        if len(self.history) == 1:\n",
    "            print('init')\n",
    "            run_index = 0 \n",
    "            self.span = 1\n",
    "        else: \n",
    "            if price <= self.history[run_index]:\n",
    "                self.span += 1\n",
    "            else: \n",
    "                self.span = 1\n",
    "                run_index = len(self.history)\n",
    "        return self.span\n",
    "\n",
    "\n",
    "# Your StockSpanner object will be instantiated and called as such:\n",
    "stockSpanner = stockSpanner()\n",
    "stockSpanner.next(100)\n",
    "stockSpanner.next(80)\n",
    "stockSpanner.next(60)\n",
    "stockSpanner.next(70)\n",
    "stockSpanner.next(60)\n",
    "stockSpanner.next(75)\n",
    "stockSpanner.next(85)"
   ]
  },
  {
   "cell_type": "code",
   "execution_count": 99,
   "metadata": {},
   "outputs": [
    {
     "name": "stdout",
     "output_type": "stream",
     "text": [
      "[1, 2, 3]\n"
     ]
    }
   ],
   "source": [
    "\n",
    "if False:\n",
    "    b = 1\n",
    "print(b)"
   ]
  },
  {
   "cell_type": "code",
   "execution_count": null,
   "metadata": {},
   "outputs": [],
   "source": []
  }
 ],
 "metadata": {
  "kernelspec": {
   "display_name": "Python 3 (ipykernel)",
   "language": "python",
   "name": "python3"
  },
  "language_info": {
   "codemirror_mode": {
    "name": "ipython",
    "version": 3
   },
   "file_extension": ".py",
   "mimetype": "text/x-python",
   "name": "python",
   "nbconvert_exporter": "python",
   "pygments_lexer": "ipython3",
   "version": "3.7.12"
  }
 },
 "nbformat": 4,
 "nbformat_minor": 4
}
